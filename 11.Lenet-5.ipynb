{
 "cells": [
  {
   "cell_type": "code",
   "execution_count": 1,
   "metadata": {},
   "outputs": [],
   "source": [
    "import datetime\n",
    "import numpy as np\n",
    "import tensorflow as tf\n",
    "import matplotlib.pyplot as plt\n",
    "\n",
    "from tensorflow.keras import Model\n",
    "from tensorflow.keras.models import Sequential\n",
    "from tensorflow.keras.losses import categorical_crossentropy\n",
    "from tensorflow.keras.layers import Dense, Flatten, Conv2D, AveragePooling2D\n",
    "\n",
    "from tensorflow.keras import datasets\n",
    "from tensorflow.keras.utils import to_categorical"
   ]
  },
  {
   "cell_type": "code",
   "execution_count": 2,
   "metadata": {},
   "outputs": [],
   "source": [
    "# LeNet-5 Model Class\n",
    "\n",
    "class LeNet(Sequential):\n",
    "    \n",
    "    def __init__(self, input_shape, nb_classes):\n",
    "        super().__init__()\n",
    "\n",
    "        self.add(Conv2D(6, kernel_size=(5, 5), strides=(1, 1), padding='same', activation='tanh', input_shape=input_shape))\n",
    "        self.add(AveragePooling2D(pool_size=(2, 2), strides=(2, 2), padding='valid'))\n",
    "\n",
    "        self.add(Conv2D(16, kernel_size=(5, 5), strides=(1, 1), padding='valid', activation='tanh'))\n",
    "        self.add(AveragePooling2D(pool_size=(2, 2), strides=(2, 2), padding='valid'))\n",
    "        self.add(Flatten())\n",
    "        self.add(Dense(120, activation='tanh'))\n",
    "        self.add(Dense(84, activation='tanh'))\n",
    "        self.add(Dense(10, activation='softmax'))\n",
    "        self.compile(optimizer='adam', loss=categorical_crossentropy, metrics=['accuracy'])\n"
   ]
  },
  {
   "cell_type": "code",
   "execution_count": 3,
   "metadata": {},
   "outputs": [],
   "source": [
    "from tensorflow.keras.datasets import mnist\n",
    "\n",
    "(X_train, y_train), (X_test, y_test) = mnist.load_data()"
   ]
  },
  {
   "cell_type": "code",
   "execution_count": 4,
   "metadata": {},
   "outputs": [],
   "source": [
    "# label one_hot_encoding\n",
    "\n",
    "y_train = to_categorical(y_train, 10)\n",
    "y_test = to_categorical(y_test, 10)"
   ]
  },
  {
   "cell_type": "code",
   "execution_count": 5,
   "metadata": {},
   "outputs": [],
   "source": [
    "X_train, X_test = X_train/255.0 , X_test/255.0\n",
    "\n",
    "X_train = X_train.reshape((60000, 28, 28, 1))\n",
    "X_test = X_test.reshape((10000, 28, 28, 1))"
   ]
  },
  {
   "cell_type": "code",
   "execution_count": 6,
   "metadata": {},
   "outputs": [
    {
     "name": "stdout",
     "output_type": "stream",
     "text": [
      "Model: \"le_net\"\n",
      "_________________________________________________________________\n",
      " Layer (type)                Output Shape              Param #   \n",
      "=================================================================\n",
      " conv2d (Conv2D)             (None, 28, 28, 6)         156       \n",
      "                                                                 \n",
      " average_pooling2d (AverageP  (None, 14, 14, 6)        0         \n",
      " ooling2D)                                                       \n",
      "                                                                 \n",
      " conv2d_1 (Conv2D)           (None, 10, 10, 16)        2416      \n",
      "                                                                 \n",
      " average_pooling2d_1 (Averag  (None, 5, 5, 16)         0         \n",
      " ePooling2D)                                                     \n",
      "                                                                 \n",
      " flatten (Flatten)           (None, 400)               0         \n",
      "                                                                 \n",
      " dense (Dense)               (None, 120)               48120     \n",
      "                                                                 \n",
      " dense_1 (Dense)             (None, 84)                10164     \n",
      "                                                                 \n",
      " dense_2 (Dense)             (None, 10)                850       \n",
      "                                                                 \n",
      "=================================================================\n",
      "Total params: 61,706\n",
      "Trainable params: 61,706\n",
      "Non-trainable params: 0\n",
      "_________________________________________________________________\n"
     ]
    }
   ],
   "source": [
    "model = LeNet(X_train[0].shape, 10)\n",
    "model.summary()"
   ]
  },
  {
   "cell_type": "code",
   "execution_count": 7,
   "metadata": {},
   "outputs": [],
   "source": [
    "log_dir = 'logs/fit/' + datetime.datetime.now().strftime(\"%Y%m%d-%H%M%S\")\n",
    "\n",
    "tensorboard_callback = tf.keras.callbacks.TensorBoard(log_dir=log_dir, histogram_freq=1)"
   ]
  },
  {
   "cell_type": "code",
   "execution_count": 8,
   "metadata": {},
   "outputs": [
    {
     "name": "stdout",
     "output_type": "stream",
     "text": [
      "Epoch 1/20\n",
      "1875/1875 [==============================] - 20s 11ms/step - loss: 0.2269 - accuracy: 0.9317 - val_loss: 0.1108 - val_accuracy: 0.9663\n",
      "Epoch 2/20\n",
      "1875/1875 [==============================] - 44s 24ms/step - loss: 0.0897 - accuracy: 0.9722 - val_loss: 0.0698 - val_accuracy: 0.9779\n",
      "Epoch 3/20\n",
      "1875/1875 [==============================] - 64s 34ms/step - loss: 0.0608 - accuracy: 0.9810 - val_loss: 0.0595 - val_accuracy: 0.9813\n",
      "Epoch 4/20\n",
      "1875/1875 [==============================] - 67s 36ms/step - loss: 0.0452 - accuracy: 0.9860 - val_loss: 0.0558 - val_accuracy: 0.9818\n",
      "Epoch 5/20\n",
      "1875/1875 [==============================] - 71s 38ms/step - loss: 0.0371 - accuracy: 0.9885 - val_loss: 0.0494 - val_accuracy: 0.9835\n",
      "Epoch 6/20\n",
      "1875/1875 [==============================] - 72s 38ms/step - loss: 0.0312 - accuracy: 0.9899 - val_loss: 0.0467 - val_accuracy: 0.9834\n",
      "Epoch 7/20\n",
      "1875/1875 [==============================] - 54s 29ms/step - loss: 0.0251 - accuracy: 0.9919 - val_loss: 0.0555 - val_accuracy: 0.9835\n",
      "Epoch 8/20\n",
      "1875/1875 [==============================] - 55s 29ms/step - loss: 0.0222 - accuracy: 0.9928 - val_loss: 0.0462 - val_accuracy: 0.9844\n",
      "Epoch 9/20\n",
      "1875/1875 [==============================] - 48s 26ms/step - loss: 0.0203 - accuracy: 0.9931 - val_loss: 0.0535 - val_accuracy: 0.9840\n",
      "Epoch 10/20\n",
      "1875/1875 [==============================] - 48s 26ms/step - loss: 0.0171 - accuracy: 0.9941 - val_loss: 0.0617 - val_accuracy: 0.9826\n",
      "Epoch 11/20\n",
      "1875/1875 [==============================] - 55s 29ms/step - loss: 0.0134 - accuracy: 0.9957 - val_loss: 0.0401 - val_accuracy: 0.9883\n",
      "Epoch 12/20\n",
      "1875/1875 [==============================] - 48s 25ms/step - loss: 0.0139 - accuracy: 0.9953 - val_loss: 0.0467 - val_accuracy: 0.9859\n",
      "Epoch 13/20\n",
      "1875/1875 [==============================] - 44s 23ms/step - loss: 0.0106 - accuracy: 0.9966 - val_loss: 0.0514 - val_accuracy: 0.9848\n",
      "Epoch 14/20\n",
      "1875/1875 [==============================] - 37s 20ms/step - loss: 0.0110 - accuracy: 0.9963 - val_loss: 0.0471 - val_accuracy: 0.9878\n",
      "Epoch 15/20\n",
      "1875/1875 [==============================] - 31s 16ms/step - loss: 0.0103 - accuracy: 0.9967 - val_loss: 0.0426 - val_accuracy: 0.9881\n",
      "Epoch 16/20\n",
      "1875/1875 [==============================] - 54s 29ms/step - loss: 0.0093 - accuracy: 0.9969 - val_loss: 0.0521 - val_accuracy: 0.9866\n",
      "Epoch 17/20\n",
      "1875/1875 [==============================] - 34s 18ms/step - loss: 0.0101 - accuracy: 0.9966 - val_loss: 0.0411 - val_accuracy: 0.9888\n",
      "Epoch 18/20\n",
      "1875/1875 [==============================] - 54s 29ms/step - loss: 0.0084 - accuracy: 0.9973 - val_loss: 0.0515 - val_accuracy: 0.9860\n",
      "Epoch 19/20\n",
      "1875/1875 [==============================] - 25s 13ms/step - loss: 0.0101 - accuracy: 0.9965 - val_loss: 0.0514 - val_accuracy: 0.9861\n",
      "Epoch 20/20\n",
      "1875/1875 [==============================] - 24s 13ms/step - loss: 0.0058 - accuracy: 0.9982 - val_loss: 0.0458 - val_accuracy: 0.9870\n"
     ]
    },
    {
     "data": {
      "text/plain": [
       "<keras.callbacks.History at 0x1c5442d3c70>"
      ]
     },
     "execution_count": 8,
     "metadata": {},
     "output_type": "execute_result"
    }
   ],
   "source": [
    "model.fit(X_train, y_train, epochs=20, validation_data=(X_test, y_test), verbose=1, callbacks=[tensorboard_callback])"
   ]
  },
  {
   "cell_type": "code",
   "execution_count": 14,
   "metadata": {},
   "outputs": [],
   "source": [
    "%load_ext tensorboard"
   ]
  },
  {
   "cell_type": "code",
   "execution_count": 23,
   "metadata": {},
   "outputs": [
    {
     "data": {
      "text/html": [
       "\n",
       "      <iframe id=\"tensorboard-frame-7825211c167a26ec\" width=\"100%\" height=\"800\" frameborder=\"0\">\n",
       "      </iframe>\n",
       "      <script>\n",
       "        (function() {\n",
       "          const frame = document.getElementById(\"tensorboard-frame-7825211c167a26ec\");\n",
       "          const url = new URL(\"http://localhost\");\n",
       "          const port = 6006;\n",
       "          if (port) {\n",
       "            url.port = port;\n",
       "          }\n",
       "          frame.src = url;\n",
       "        })();\n",
       "      </script>\n",
       "    "
      ],
      "text/plain": [
       "<IPython.core.display.HTML object>"
      ]
     },
     "metadata": {},
     "output_type": "display_data"
    }
   ],
   "source": [
    "%tensorboard --logdir logs/fit"
   ]
  },
  {
   "cell_type": "code",
   "execution_count": null,
   "metadata": {},
   "outputs": [],
   "source": []
  }
 ],
 "metadata": {
  "kernelspec": {
   "display_name": "Python 3",
   "language": "python",
   "name": "python3"
  },
  "language_info": {
   "codemirror_mode": {
    "name": "ipython",
    "version": 3
   },
   "file_extension": ".py",
   "mimetype": "text/x-python",
   "name": "python",
   "nbconvert_exporter": "python",
   "pygments_lexer": "ipython3",
   "version": "3.10.9"
  },
  "orig_nbformat": 4
 },
 "nbformat": 4,
 "nbformat_minor": 2
}
