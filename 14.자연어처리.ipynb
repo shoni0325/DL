{
 "cells": [
  {
   "attachments": {},
   "cell_type": "markdown",
   "metadata": {},
   "source": [
    "## tf.keras.preprocessing.text.text_to_word_sequence\n",
    "\n",
    "* input_text\n",
    "\n",
    "    : Input text (string).\n",
    "* filters\n",
    "\n",
    "    : list (or concatenation) of characters to filter out, such as punctuation. Default: '!\"#$%&()*+,-./:;<=>?@[\\\\]^_`{|}~\\\\t\\\\n', includes basic punctuation, tabs, and newlines.\n",
    "* lower\n",
    "\n",
    "    : boolean. Whether to convert the input to lowercase.\n",
    "* split\n",
    "\n",
    "    : str. Separator for word splitting."
   ]
  },
  {
   "attachments": {},
   "cell_type": "markdown",
   "metadata": {},
   "source": [
    "tf.keras.preprocessing.text.text_to_word_sequence(\n",
    "    input_text,\n",
    "    filters='!\"#$%&()*+,-./:;<=>?@[\\\\]^_`{|}~\\t\\n',\n",
    "    lower=True,\n",
    "    split=' '\n",
    ")"
   ]
  },
  {
   "cell_type": "code",
   "execution_count": 2,
   "metadata": {},
   "outputs": [],
   "source": [
    "import numpy as np\n",
    "import tensorflow as tf\n",
    "from numpy import array\n",
    "from tensorflow.keras.preprocessing.text import Tokenizer\n",
    "from tensorflow.keras.preprocessing.sequence import pad_sequences\n",
    "from tensorflow.keras.models import Sequential\n",
    "from tensorflow.keras.layers import Dense, Flatten, Embedding"
   ]
  },
  {
   "cell_type": "code",
   "execution_count": 3,
   "metadata": {},
   "outputs": [
    {
     "name": "stdout",
     "output_type": "stream",
     "text": [
      "\n",
      "원문 : \n",
      " 해보지 않으면 해낼 수 없다\n",
      "\n",
      "토큰화 : \n",
      " ['해보지', '않으면', '해낼', '수', '없다']\n"
     ]
    }
   ],
   "source": [
    "# 주어진 문장을 '단어'로 토큰화 하기\n",
    "# keras의 텍스트 전처리와 관련한 함수 중 text_to_word_sequence 함수를 불러오기\n",
    "from tensorflow.keras.preprocessing.text import text_to_word_sequence\n",
    "\n",
    "# 전처리할 텍스트 정하기\n",
    "text = '해보지 않으면 해낼 수 없다'\n",
    "\n",
    "# 해당 텍스트를 토큰화\n",
    "result = text_to_word_sequence(text)\n",
    "print('\\n원문 : \\n', text)\n",
    "print('\\n토큰화 : \\n', result)"
   ]
  },
  {
   "attachments": {},
   "cell_type": "markdown",
   "metadata": {},
   "source": [
    "## tf.keras.preprocessing.text.Tokenizer\n",
    "\n",
    "* num_words (None)\n",
    "    \n",
    "    : the maximum number of words to keep, based on word frequency. Only the most common num_words-1 words will be kept.\n",
    "* filters\n",
    "    \n",
    "    : a string where each element is a character that will be filtered from the texts. The default is all punctuation, plus tabs and line breaks, minus the ' character.\n",
    "* lower (True)\n",
    "    \n",
    "    : boolean. Whether to convert the texts to lowercase.\n",
    "* split (' ')\n",
    "\n",
    "    : str. Separator for word splitting.\n",
    "* char_level (False)\n",
    "\n",
    "    : if True, every character will be treated as a token.\n",
    "* oov_token (None)\n",
    "\n",
    "    : if given, it will be added to word_index and used to replace out-of-vocabulary words during text_to_sequence calls\n",
    "* analyzer (None)\n",
    "\n",
    "    : function. Custom analyzer to split the text. The default analyzer is text_to_word_sequence"
   ]
  },
  {
   "cell_type": "code",
   "execution_count": 4,
   "metadata": {},
   "outputs": [],
   "source": [
    "# 단어 빈도수 세기\n",
    "# 전처리 하려는 세개의 문장을 정한다\n",
    "docs = ['먼저 텍스트의 각 단어를 나누어 토큰화 합니다.',\n",
    "        '텍스트의 단어로 토큰화 해야 딥러닝에서 인식됩니다.',\n",
    "        '토큰화 한 결과는 딥러닝에서 사용 할 수 있습니다.']"
   ]
  },
  {
   "cell_type": "code",
   "execution_count": 5,
   "metadata": {},
   "outputs": [
    {
     "name": "stdout",
     "output_type": "stream",
     "text": [
      "\n",
      "단어 카운트 : \n",
      " OrderedDict([('먼저', 1), ('텍스트의', 2), ('각', 1), ('단어를', 1), ('나누어', 1), ('토큰화', 3), ('합니다', 1), ('단어로', 1), ('해야', 1), ('딥러닝에서', 2), ('인식됩니다', 1), ('한', 1), ('결과는', 1), ('사용', 1), ('할', 1), ('수', 1), ('있습니다', 1)])\n",
      "\n",
      "문장 카운트 :  3\n",
      "\n",
      "각 단어가 몇개의 문장에 포함되어 있는가 : \n",
      " defaultdict(<class 'int'>, {'토큰화': 3, '나누어': 1, '텍스트의': 2, '단어를': 1, '합니다': 1, '먼저': 1, '각': 1, '단어로': 1, '딥러닝에서': 2, '해야': 1, '인식됩니다': 1, '있습니다': 1, '사용': 1, '결과는': 1, '수': 1, '한': 1, '할': 1})\n",
      "\n",
      "각 단어에 매겨진 인덱스 값 : \n",
      " {'토큰화': 1, '텍스트의': 2, '딥러닝에서': 3, '먼저': 4, '각': 5, '단어를': 6, '나누어': 7, '합니다': 8, '단어로': 9, '해야': 10, '인식됩니다': 11, '한': 12, '결과는': 13, '사용': 14, '할': 15, '수': 16, '있습니다': 17}\n"
     ]
    }
   ],
   "source": [
    "# 토큰화 함수를 이용해 전처리 하는 과정\n",
    "token = Tokenizer()         # 토큰화 함수 지정\n",
    "token.fit_on_texts(docs)    # 토큰화 함수에 문장 적용\n",
    "\n",
    "# 단어의 빈도수를 계산한 결과를 각 옵션에 맞추어 출력\n",
    "print('\\n단어 카운트 : \\n', token.word_counts)\n",
    "# Tokenizer()의 word_counts 함수는 순서를 기억하는 OrderedDict 클래스를 사용\n",
    "\n",
    "# 출력되는 순서는 랜덤\n",
    "print('\\n문장 카운트 : ', token.document_count)\n",
    "print('\\n각 단어가 몇개의 문장에 포함되어 있는가 : \\n', token.word_docs)\n",
    "print('\\n각 단어에 매겨진 인덱스 값 : \\n', token.word_index)"
   ]
  },
  {
   "cell_type": "code",
   "execution_count": 10,
   "metadata": {},
   "outputs": [
    {
     "name": "stdout",
     "output_type": "stream",
     "text": [
      "문장의 토큰화 :  {'오랫동안': 1, '꿈꾸는': 2, '자는': 3, '그': 4, '꿈을': 5, '닮아간다': 6}\n",
      "문장의 숫자화 :  [[1, 2, 3, 4, 5, 6]]\n",
      "문장의 원-핫 인코딩 : \n",
      " [[[0. 1. 0. 0. 0. 0. 0.]\n",
      "  [0. 0. 1. 0. 0. 0. 0.]\n",
      "  [0. 0. 0. 1. 0. 0. 0.]\n",
      "  [0. 0. 0. 0. 1. 0. 0.]\n",
      "  [0. 0. 0. 0. 0. 1. 0.]\n",
      "  [0. 0. 0. 0. 0. 0. 1.]]]\n"
     ]
    }
   ],
   "source": [
    "# 문장의 원-핫 인코딩\n",
    "from tensorflow.keras.preprocessing.text import Tokenizer\n",
    "\n",
    "text = '오랫동안 꿈꾸는 자는 그 꿈을 닮아간다'\n",
    "\n",
    "token = Tokenizer()\n",
    "token.fit_on_texts([text])\n",
    "print('문장의 토큰화 : ', token.word_index)\n",
    "\n",
    "# 각 단어의 숫자화\n",
    "x = token.texts_to_sequences([text])\n",
    "print('문장의 숫자화 : ', x)\n",
    "\n",
    "# 원-핫 인코딩 방식으로 표현하면\n",
    "from keras.utils import to_categorical\n",
    "\n",
    "word_size = len(token.word_index) + 1\n",
    "x = to_categorical(x, num_classes=word_size)\n",
    "print('문장의 원-핫 인코딩 : \\n', x)"
   ]
  },
  {
   "attachments": {},
   "cell_type": "markdown",
   "metadata": {},
   "source": [
    "## tf.keras.layers.Embedding\n",
    "\n",
    "* input_dim\n",
    "    \n",
    "    : Integer. Size of the vocabulary, i.e. maximum integer index + 1.\n",
    "* output_dim\n",
    "\n",
    "    : Integer. Dimension of the dense embedding.\n",
    "* embeddings_initializer ('uniform')\n",
    "\n",
    "    : Initializer for the embeddings matrix (see keras.initializers).\n",
    "* embeddings_regularizer (None)\n",
    "\n",
    "    : Regularizer function applied to the embeddings matrix (see keras.regularizers).\n",
    "* embeddings_constraint (None)\n",
    "\n",
    "    : Constraint function applied to the embeddings matrix (see keras.constraints).\n",
    "* mask_zero (False)\n",
    "\n",
    "    : Boolean, whether or not the input value 0 is a special \"padding\" value that should be masked out. This is useful when using recurrent layers which may take variable length input. If this is True, then all subsequent layers in the model need to support masking or an exception will be raised. If mask_zero is set to True, as a consequence, index 0 cannot be used in the vocabulary (input_dim should equal size of vocabulary + 1).\n",
    "* input_length (None)\n",
    "\n",
    "    : Length of input sequences, when it is constant. This argument is required if you are going to connect Flatten then Dense layers upstream (without it, the shape of the dense outputs cannot be computed).\n",
    "* sparse (False)\n",
    "\n",
    "    : If True, calling this layer returns a tf.SparseTensor. If False, the layer returns a dense tf.Tensor. For an entry with no features in a sparse tensor (entry with value 0), the embedding vector of index 0 is returned by default.\n"
   ]
  },
  {
   "cell_type": "code",
   "execution_count": 15,
   "metadata": {},
   "outputs": [
    {
     "name": "stdout",
     "output_type": "stream",
     "text": [
      "{'너무': 1, '재밌네요': 2, '최고예요': 3, '참': 4, '잘': 5, '만든': 6, '영화예요': 7, '추천하고': 8, '싶은': 9, '영화입니다': 10, '한번': 11, '더': 12, '보고싶네요': 13, '글쎄요': 14, '별로예요': 15, '생각보다': 16, '지루하네요': 17, '연기가': 18, '어색해요': 19, '재미없어요': 20}\n",
      "\n",
      "리뷰 텍스트, 토큰화 결과 : \n",
      " [[1, 2], [3], [4, 5, 6, 7], [8, 9, 10], [11, 12, 13], [14], [15], [16, 17], [18, 19], [20]]\n",
      "\n",
      "패딩 결과 : \n",
      " [[ 0  0  1  2]\n",
      " [ 0  0  0  3]\n",
      " [ 4  5  6  7]\n",
      " [ 0  8  9 10]\n",
      " [ 0 11 12 13]\n",
      " [ 0  0  0 14]\n",
      " [ 0  0  0 15]\n",
      " [ 0  0 16 17]\n",
      " [ 0  0 18 19]\n",
      " [ 0  0  0 20]]\n",
      "\n",
      "딥러닝 모델 시작 : \n",
      "Epoch 1/20\n",
      "1/1 [==============================] - 0s 308ms/step - loss: 0.7037 - accuracy: 0.4000\n",
      "Epoch 2/20\n",
      "1/1 [==============================] - 0s 6ms/step - loss: 0.7016 - accuracy: 0.4000\n",
      "Epoch 3/20\n",
      "1/1 [==============================] - 0s 6ms/step - loss: 0.6995 - accuracy: 0.4000\n",
      "Epoch 4/20\n",
      "1/1 [==============================] - 0s 5ms/step - loss: 0.6974 - accuracy: 0.4000\n",
      "Epoch 5/20\n",
      "1/1 [==============================] - 0s 5ms/step - loss: 0.6953 - accuracy: 0.5000\n",
      "Epoch 6/20\n",
      "1/1 [==============================] - 0s 6ms/step - loss: 0.6933 - accuracy: 0.5000\n",
      "Epoch 7/20\n",
      "1/1 [==============================] - 0s 5ms/step - loss: 0.6913 - accuracy: 0.5000\n",
      "Epoch 8/20\n",
      "1/1 [==============================] - 0s 9ms/step - loss: 0.6892 - accuracy: 0.5000\n",
      "Epoch 9/20\n",
      "1/1 [==============================] - 0s 7ms/step - loss: 0.6872 - accuracy: 0.6000\n",
      "Epoch 10/20\n",
      "1/1 [==============================] - 0s 6ms/step - loss: 0.6852 - accuracy: 0.6000\n",
      "Epoch 11/20\n",
      "1/1 [==============================] - 0s 6ms/step - loss: 0.6831 - accuracy: 0.6000\n",
      "Epoch 12/20\n",
      "1/1 [==============================] - 0s 7ms/step - loss: 0.6811 - accuracy: 0.6000\n",
      "Epoch 13/20\n",
      "1/1 [==============================] - 0s 6ms/step - loss: 0.6791 - accuracy: 0.7000\n",
      "Epoch 14/20\n",
      "1/1 [==============================] - 0s 4ms/step - loss: 0.6771 - accuracy: 0.8000\n",
      "Epoch 15/20\n",
      "1/1 [==============================] - 0s 5ms/step - loss: 0.6751 - accuracy: 0.9000\n",
      "Epoch 16/20\n",
      "1/1 [==============================] - 0s 3ms/step - loss: 0.6731 - accuracy: 0.9000\n",
      "Epoch 17/20\n",
      "1/1 [==============================] - 0s 3ms/step - loss: 0.6710 - accuracy: 0.9000\n",
      "Epoch 18/20\n",
      "1/1 [==============================] - 0s 4ms/step - loss: 0.6690 - accuracy: 0.9000\n",
      "Epoch 19/20\n",
      "1/1 [==============================] - 0s 5ms/step - loss: 0.6670 - accuracy: 0.9000\n",
      "Epoch 20/20\n",
      "1/1 [==============================] - 0s 6ms/step - loss: 0.6650 - accuracy: 0.9000\n",
      "1/1 [==============================] - 0s 81ms/step - loss: 0.6629 - accuracy: 0.9000\n",
      "\n",
      " Accuracy : 0.9000\n"
     ]
    }
   ],
   "source": [
    "# 텍스트 리뷰 10개 샘플을 지정\n",
    "docs = ['너무 재밌네요', '최고예요', '참 잘 만든 영화예요', '추천하고 싶은 영화입니다',\n",
    "        '한번 더 보고싶네요', '글쎄요', '별로예요', '생각보다 지루하네요',\n",
    "        '연기가 어색해요', '재미없어요']\n",
    "\n",
    "# 긍정 리뷰는 1, 부정 리뷰는 0으로 클래스를 지정\n",
    "classes = array([1, 1, 1, 1, 1, 0, 0, 0, 0, 0])\n",
    "\n",
    "# 토큰화\n",
    "token = Tokenizer()\n",
    "token.fit_on_texts(docs)\n",
    "print(token.word_index)\n",
    "x = token.texts_to_sequences(docs)\n",
    "print('\\n리뷰 텍스트, 토큰화 결과 : \\n', x)\n",
    "\n",
    "# 패딩, 서로 다른 길이의 데이터를 4로 맞추어 준다\n",
    "padded_x = pad_sequences(x, 4)\n",
    "print('\\n패딩 결과 : \\n', padded_x)\n",
    "\n",
    "# 딥러닝 모델\n",
    "print('\\n딥러닝 모델 시작 : ')\n",
    "\n",
    "# 임베딩에 입력될 단어의 수를 지정\n",
    "word_size = len(token.word_index) + 1\n",
    "\n",
    "# 단어 임베딩을 포함하여 딥러닝 모델을 만들고 결과를 출력\n",
    "model = Sequential()\n",
    "model.add(Embedding(word_size, 8, input_length = 4))\n",
    "model.add(Flatten())\n",
    "# model.add(Dense(16, activation='relu')) # 딥러닝 해보려고 추가\n",
    "model.add(Dense(1, activation='sigmoid'))\n",
    "model.compile(optimizer='adam',\n",
    "              loss='binary_crossentropy',\n",
    "              metrics=['accuracy'])\n",
    "model.fit(padded_x, classes, epochs=20)\n",
    "print('\\n Accuracy : %.4f' % (model.evaluate(padded_x, classes)[1]))"
   ]
  },
  {
   "cell_type": "code",
   "execution_count": null,
   "metadata": {},
   "outputs": [],
   "source": []
  }
 ],
 "metadata": {
  "kernelspec": {
   "display_name": "Python 3",
   "language": "python",
   "name": "python3"
  },
  "language_info": {
   "codemirror_mode": {
    "name": "ipython",
    "version": 3
   },
   "file_extension": ".py",
   "mimetype": "text/x-python",
   "name": "python",
   "nbconvert_exporter": "python",
   "pygments_lexer": "ipython3",
   "version": "3.10.9"
  },
  "orig_nbformat": 4
 },
 "nbformat": 4,
 "nbformat_minor": 2
}
