{
 "cells": [
  {
   "cell_type": "code",
   "execution_count": 1,
   "metadata": {},
   "outputs": [],
   "source": [
    "from tensorflow.keras.datasets import mnist\n",
    "from tensorflow.keras.utils import to_categorical\n",
    "from tensorflow.keras.models import Sequential\n",
    "from tensorflow.keras.layers import Dense, Dropout, Flatten, Conv2D, MaxPooling2D\n",
    "from tensorflow.keras.callbacks import ModelCheckpoint, EarlyStopping\n",
    "\n",
    "import matplotlib.pyplot as plt\n",
    "import numpy as np\n",
    "import os\n",
    "import tensorflow as tf"
   ]
  },
  {
   "cell_type": "code",
   "execution_count": 2,
   "metadata": {},
   "outputs": [],
   "source": [
    "# seed 값 설정\n",
    "seed = 0\n",
    "np.random.seed(seed)\n",
    "tf.random.set_seed(3)\n",
    "\n",
    "# 데이터 불러오기\n",
    "(X_train, Y_train), (X_test, Y_test) = mnist.load_data()\n",
    "\n",
    "X_train = X_train.reshape(X_train.shape[0], 28, 28, 1).astype('float32') /255\n",
    "X_test = X_test.reshape(X_test.shape[0], 28, 28, 1).astype('float32') /255\n",
    "\n",
    "Y_train = to_categorical(Y_train, 10)\n",
    "Y_test = to_categorical(Y_test, 10)\n",
    "\n",
    "# 컨볼루션 신경망의 설정\n",
    "model = Sequential()\n",
    "model.add(Conv2D(32, kernel_size = (3, 3), input_shape=(28, 28, 1), activation = 'relu'))\n",
    "model.add(Conv2D(64, (3, 3), activation='relu'))\n",
    "model.add(MaxPooling2D(pool_size=2))\n",
    "model.add(Dropout(0.25))\n",
    "model.add(Flatten())\n",
    "model.add(Dense(128, activation='relu'))\n",
    "model.add(Dropout(0.5))\n",
    "model.add(Dense(10, activation='softmax'))\n",
    "\n",
    "model.compile(loss='categorical_crossentropy',\n",
    "              optimizer='adam',\n",
    "              metrics=['accuracy'])"
   ]
  },
  {
   "cell_type": "code",
   "execution_count": 3,
   "metadata": {},
   "outputs": [
    {
     "name": "stdout",
     "output_type": "stream",
     "text": [
      "\n",
      "Epoch 1: val_loss improved from inf to 0.05410, saving model to ./model\\01-0.0541.hdf5\n",
      "\n",
      "Epoch 2: val_loss improved from 0.05410 to 0.04174, saving model to ./model\\02-0.0417.hdf5\n",
      "\n",
      "Epoch 3: val_loss improved from 0.04174 to 0.03630, saving model to ./model\\03-0.0363.hdf5\n",
      "\n",
      "Epoch 4: val_loss improved from 0.03630 to 0.03373, saving model to ./model\\04-0.0337.hdf5\n",
      "\n",
      "Epoch 5: val_loss improved from 0.03373 to 0.02879, saving model to ./model\\05-0.0288.hdf5\n",
      "\n",
      "Epoch 6: val_loss did not improve from 0.02879\n",
      "\n",
      "Epoch 7: val_loss did not improve from 0.02879\n",
      "\n",
      "Epoch 8: val_loss improved from 0.02879 to 0.02501, saving model to ./model\\08-0.0250.hdf5\n",
      "\n",
      "Epoch 9: val_loss did not improve from 0.02501\n",
      "\n",
      "Epoch 10: val_loss did not improve from 0.02501\n",
      "\n",
      "Epoch 11: val_loss did not improve from 0.02501\n",
      "\n",
      "Epoch 12: val_loss improved from 0.02501 to 0.02473, saving model to ./model\\12-0.0247.hdf5\n",
      "\n",
      "Epoch 13: val_loss did not improve from 0.02473\n",
      "\n",
      "Epoch 14: val_loss did not improve from 0.02473\n",
      "\n",
      "Epoch 15: val_loss did not improve from 0.02473\n",
      "\n",
      "Epoch 16: val_loss did not improve from 0.02473\n",
      "\n",
      "Epoch 17: val_loss did not improve from 0.02473\n",
      "\n",
      "Epoch 18: val_loss did not improve from 0.02473\n",
      "\n",
      "Epoch 19: val_loss did not improve from 0.02473\n",
      "\n",
      "Epoch 20: val_loss did not improve from 0.02473\n",
      "\n",
      "Epoch 21: val_loss did not improve from 0.02473\n",
      "\n",
      "Epoch 22: val_loss did not improve from 0.02473\n",
      "313/313 [==============================] - 3s 9ms/step - loss: 0.0289 - accuracy: 0.9930\n",
      "\n",
      " Test Accuracy: 0.9930\n"
     ]
    },
    {
     "data": {
      "image/png": "[encoded data removed]",
      "text/plain": [
       "<Figure size 640x480 with 1 Axes>"
      ]
     },
     "metadata": {},
     "output_type": "display_data"
    }
   ],
   "source": [
    "# 모델 최적화 설정 \n",
    "MODEL_DIR = './model/'\n",
    "if not os.path.exists(MODEL_DIR):\n",
    "    os.mkdir(MODEL_DIR)\n",
    "\n",
    "modelpath = './model/{epoch:02d}-{val_loss:.4f}.hdf5'\n",
    "checkpointer = ModelCheckpoint(filepath=modelpath, monitor= 'val_loss', verbose=1, save_best_only=True)\n",
    "early_stopping_callback = EarlyStopping(monitor='val_loss', patience=10)\n",
    "\n",
    "# 모델의 실행 \n",
    "history = model.fit(X_train, Y_train, validation_data=(X_test, Y_test),\n",
    "                    epochs=30, batch_size=200, verbose=0, callbacks=[early_stopping_callback,checkpointer])\n",
    "\n",
    "# 테스트 정확도 출력\n",
    "print('\\n Test Accuracy: %.4f' % (model.evaluate(X_test, Y_test)[1]))\n",
    "\n",
    "# 테스트셋 오차\n",
    "y_vloss = history.history['val_loss']\n",
    "\n",
    "# 학습셋 오차\n",
    "y_loss = history.history['loss']\n",
    "\n",
    "# 시각화\n",
    "x_len = np.arange(len(y_loss))\n",
    "plt.plot(x_len, y_vloss, marker='.', c='red', label='Testset_loss')\n",
    "plt.plot(x_len, y_loss, marker='.', c='blue', label='Trainset_loss')\n",
    "\n",
    "# 그리드 & 레이블\n",
    "plt.legend(loc='upper right')\n",
    "plt.grid()\n",
    "plt.xlabel('epoch')\n",
    "plt.ylabel('loss')\n",
    "plt.show()"
   ]
  },
  {
   "cell_type": "code",
   "execution_count": null,
   "metadata": {},
   "outputs": [],
   "source": []
  }
 ],
 "metadata": {
  "kernelspec": {
   "display_name": "Python 3",
   "language": "python",
   "name": "python3"
  },
  "language_info": {
   "codemirror_mode": {
    "name": "ipython",
    "version": 3
   },
   "file_extension": ".py",
   "mimetype": "text/x-python",
   "name": "python",
   "nbconvert_exporter": "python",
   "pygments_lexer": "ipython3",
   "version": "3.10.9"
  },
  "orig_nbformat": 4
 },
 "nbformat": 4,
 "nbformat_minor": 2
}
