{
 "cells": [
  {
   "cell_type": "code",
   "execution_count": 1,
   "metadata": {},
   "outputs": [],
   "source": [
    "import datetime\n",
    "import numpy as np\n",
    "import tensorflow as tf\n",
    "import matplotlib.pyplot as plt\n",
    "\n",
    "from tensorflow.keras import Model\n",
    "from tensorflow.keras.models import Sequential\n",
    "from tensorflow.keras.losses import categorical_crossentropy\n",
    "from tensorflow.keras.layers import Dense, Flatten, Conv2D, AveragePooling2D\n",
    "from tensorflow.keras.applications import VGG16 , ResNet50\n",
    "\n",
    "from tensorflow.keras import datasets\n",
    "from tensorflow.keras.utils import to_categorical\n",
    "%matplotlib inline"
   ]
  },
  {
   "cell_type": "code",
   "execution_count": 2,
   "metadata": {},
   "outputs": [],
   "source": [
    "from tensorflow.keras.datasets import mnist\n",
    "\n",
    "(X_train, y_train) , (X_test, y_test) = mnist.load_data()"
   ]
  },
  {
   "cell_type": "code",
   "execution_count": 4,
   "metadata": {},
   "outputs": [],
   "source": [
    "#reshaping x_train\n",
    "X = X_train.reshape((60000, 28, 28, 1))\n",
    "X = X.repeat(3, -1)  # repeat the last (-1) dimension three times\n",
    "X_train = tf.convert_to_tensor(X)\n",
    "assert X_train.shape == (60000, 28, 28, 3)"
   ]
  },
  {
   "cell_type": "code",
   "execution_count": 6,
   "metadata": {},
   "outputs": [],
   "source": [
    "#reshaping x_test\n",
    "X = X_test.reshape((10000, 28, 28, 1))\n",
    "X = X.repeat(3, -1)  # repeat the last (-1) dimension three times\n",
    "X_test = tf.convert_to_tensor(X)\n",
    "assert X_test.shape == (10000, 28, 28, 3)"
   ]
  },
  {
   "cell_type": "code",
   "execution_count": 7,
   "metadata": {},
   "outputs": [],
   "source": [
    "#label one_hot_encoding\n",
    "\n",
    "y_train = to_categorical(y_train , 10)\n",
    "y_test = to_categorical(y_test ,10 )"
   ]
  },
  {
   "cell_type": "code",
   "execution_count": 11,
   "metadata": {},
   "outputs": [
    {
     "name": "stdout",
     "output_type": "stream",
     "text": [
      "Libs imported\n"
     ]
    }
   ],
   "source": [
    "from tensorflow.keras.layers import  Input, Dense, Flatten\n",
    "from tensorflow.keras.models import Model\n",
    "from tensorflow.keras.applications.resnet50 import ResNet50\n",
    "from tensorflow.keras.applications.resnet50 import preprocess_input\n",
    "from tensorflow.keras.preprocessing import image\n",
    "from tensorflow.keras.preprocessing.image import ImageDataGenerator, load_img\n",
    "from tensorflow.keras.models import Sequential\n",
    "import numpy as np\n",
    "from glob import glob\n",
    "print(\"Libs imported\")\n",
    "\n",
    "# if you are  changing the neumber of  neurons from N to n where N>n: this is called :'constructive' learning\n",
    "#The network can take the input image having height, width as multiples of 32 and 3 as channel width\n",
    "IMAGE_SIZE=[32,32]"
   ]
  },
  {
   "cell_type": "code",
   "execution_count": null,
   "metadata": {},
   "outputs": [],
   "source": [
    "resnet = ResNet50()"
   ]
  },
  {
   "cell_type": "code",
   "execution_count": 12,
   "metadata": {},
   "outputs": [
    {
     "ename": "NameError",
     "evalue": "name 'resnet' is not defined",
     "output_type": "error",
     "traceback": [
      "\u001b[1;31m---------------------------------------------------------------------------\u001b[0m",
      "\u001b[1;31mNameError\u001b[0m                                 Traceback (most recent call last)",
      "Cell \u001b[1;32mIn[12], line 1\u001b[0m\n\u001b[1;32m----> 1\u001b[0m \u001b[39mfor\u001b[39;00m layers \u001b[39min\u001b[39;00m resnet\u001b[39m.\u001b[39mlayers:\n\u001b[0;32m      2\u001b[0m     layers\u001b[39m.\u001b[39mtrainable\u001b[39m=\u001b[39m \u001b[39mFalse\u001b[39;00m\n",
      "\u001b[1;31mNameError\u001b[0m: name 'resnet' is not defined"
     ]
    }
   ],
   "source": [
    "for layers in resnet.layers:\n",
    "    layers.trainable= False"
   ]
  },
  {
   "cell_type": "code",
   "execution_count": 13,
   "metadata": {},
   "outputs": [
    {
     "ename": "NameError",
     "evalue": "name 'resnet' is not defined",
     "output_type": "error",
     "traceback": [
      "\u001b[1;31m---------------------------------------------------------------------------\u001b[0m",
      "\u001b[1;31mNameError\u001b[0m                                 Traceback (most recent call last)",
      "Cell \u001b[1;32mIn[13], line 2\u001b[0m\n\u001b[0;32m      1\u001b[0m \u001b[39m#Taking the output of the last convolution block in ResNet50\u001b[39;00m\n\u001b[1;32m----> 2\u001b[0m X\u001b[39m=\u001b[39mFlatten()(resnet\u001b[39m.\u001b[39moutput)\n\u001b[0;32m      3\u001b[0m \u001b[39m# Adding a fully connected layer having 10 neurons\u001b[39;00m\n\u001b[0;32m      4\u001b[0m no_classes\u001b[39m=\u001b[39m\u001b[39m10\u001b[39m\n",
      "\u001b[1;31mNameError\u001b[0m: name 'resnet' is not defined"
     ]
    }
   ],
   "source": [
    "#Taking the output of the last convolution block in ResNet50\n",
    "X=Flatten()(resnet.output)\n",
    "# Adding a fully connected layer having 10 neurons\n",
    "no_classes=10\n",
    "prediction=Dense(no_classes, activation='softmax',name=\"Abhishek_layer\")(X) "
   ]
  },
  {
   "cell_type": "code",
   "execution_count": null,
   "metadata": {},
   "outputs": [],
   "source": [
    "#set what cost and optimization method to use for our model\n",
    "model.compile(loss='categorical_crossentropy', optimizer='adam', metrics=['accuracy'])"
   ]
  }
 ],
 "metadata": {
  "kernelspec": {
   "display_name": "Python 3",
   "language": "python",
   "name": "python3"
  },
  "language_info": {
   "codemirror_mode": {
    "name": "ipython",
    "version": 3
   },
   "file_extension": ".py",
   "mimetype": "text/x-python",
   "name": "python",
   "nbconvert_exporter": "python",
   "pygments_lexer": "ipython3",
   "version": "3.10.9"
  },
  "orig_nbformat": 4
 },
 "nbformat": 4,
 "nbformat_minor": 2
}
